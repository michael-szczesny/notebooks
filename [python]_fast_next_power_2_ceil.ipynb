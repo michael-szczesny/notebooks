{
  "nbformat": 4,
  "nbformat_minor": 0,
  "metadata": {
    "colab": {
      "name": "[python] fast next power 2 ceil",
      "provenance": [],
      "collapsed_sections": [],
      "authorship_tag": "ABX9TyOjvAUm6WcJMyiQxBRRAUug"
    },
    "kernelspec": {
      "name": "python3",
      "display_name": "Python 3"
    },
    "language_info": {
      "name": "python"
    }
  },
  "cells": [
    {
      "cell_type": "code",
      "metadata": {
        "id": "gZRTfYqFMOUh"
      },
      "source": [
        "import numpy as np\n",
        "import pandas as pd\n",
        "import io\n",
        "import matplotlib.pyplot as plt\n",
        "plt.style.use('ggplot')"
      ],
      "execution_count": null,
      "outputs": []
    },
    {
      "cell_type": "code",
      "source": [
        "from math import pow, ceil, log\n",
        "def npo2(x):\n",
        "    x -= 1\n",
        "    for i in range(5):\n",
        "        x |= x >> 2**i\n",
        "    return x + 1\n",
        "\n",
        "def npo(x):\n",
        "    return int(pow(2, ceil(log(x)/log(2))))\n",
        "\n",
        "def npo3(x):\n",
        "    return 2 << int(log(x - 1, 2))\n",
        "for i in [npo2, npo, npo3]:\n",
        "    %timeit i(576)"
      ],
      "metadata": {
        "colab": {
          "base_uri": "https://localhost:8080/"
        },
        "id": "snDv-ypsH2t5",
        "outputId": "37aaafc9-fd11-44f5-ba21-2451ec7d9e58"
      },
      "execution_count": null,
      "outputs": [
        {
          "output_type": "stream",
          "name": "stdout",
          "text": [
            "The slowest run took 4.16 times longer than the fastest. This could mean that an intermediate result is being cached.\n",
            "1000000 loops, best of 5: 1.81 µs per loop\n",
            "The slowest run took 13.54 times longer than the fastest. This could mean that an intermediate result is being cached.\n",
            "1000000 loops, best of 5: 789 ns per loop\n",
            "The slowest run took 13.82 times longer than the fastest. This could mean that an intermediate result is being cached.\n",
            "1000000 loops, best of 5: 460 ns per loop\n"
          ]
        }
      ]
    },
    {
      "cell_type": "code",
      "source": [
        "x = np.array([2,3,4,7,8,513,512,511,12,15,203,45,12,34,45,64]) - 1\n",
        "2 << np.log2(x).astype(np.uint16)"
      ],
      "metadata": {
        "colab": {
          "base_uri": "https://localhost:8080/"
        },
        "id": "kl3-vtZCLybk",
        "outputId": "39f5f787-5703-4175-a974-b8226613551b"
      },
      "execution_count": null,
      "outputs": [
        {
          "output_type": "execute_result",
          "data": {
            "text/plain": [
              "array([   2,    4,    4,    8,    8, 1024,  512,  512,   16,   16,  256,\n",
              "         64,   16,   64,   64,   64], dtype=uint16)"
            ]
          },
          "metadata": {},
          "execution_count": 138
        }
      ]
    },
    {
      "cell_type": "code",
      "source": [
        "1 << (np.log2(x, where=x != 0, out=np.full(len(x), -1.)) + 1).astype(np.uint16)"
      ],
      "metadata": {
        "colab": {
          "base_uri": "https://localhost:8080/"
        },
        "id": "XSzB1hCASGgN",
        "outputId": "77b3b16f-96d1-405d-bed3-c35c014c95a0"
      },
      "execution_count": null,
      "outputs": [
        {
          "output_type": "execute_result",
          "data": {
            "text/plain": [
              "array([   1,    2,    4,    4,    8,    8, 1024,  512,  512,   16,   16,\n",
              "        256,   64,   16,   64,   64,   64], dtype=uint16)"
            ]
          },
          "metadata": {},
          "execution_count": 136
        }
      ]
    }
  ]
}