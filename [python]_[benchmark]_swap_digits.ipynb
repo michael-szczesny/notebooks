{
  "nbformat": 4,
  "nbformat_minor": 0,
  "metadata": {
    "colab": {
      "name": "[python] [benchmark] swap digits",
      "provenance": [],
      "collapsed_sections": [],
      "authorship_tag": "ABX9TyN1N444G9r7DZgNzEUSciDW"
    },
    "kernelspec": {
      "name": "python3",
      "display_name": "Python 3"
    },
    "language_info": {
      "name": "python"
    }
  },
  "cells": [
    {
      "cell_type": "code",
      "metadata": {
        "id": "gZRTfYqFMOUh"
      },
      "source": [
        "import numpy as np\n",
        "import pandas as pd\n",
        "import io\n",
        "import matplotlib.pyplot as plt\n",
        "plt.style.use('ggplot')"
      ],
      "execution_count": null,
      "outputs": []
    },
    {
      "cell_type": "code",
      "source": [
        "import math\n",
        "\n",
        "\n",
        "def swap(a, p1, p2):\n",
        "\n",
        "    lth = int(math.log(a, 10) + 1) - 1\n",
        "    p1, p2 = 10**(lth - p1), 10**(lth - p2)\n",
        "\n",
        "    d1 = a // p1 % 10\n",
        "    d2 = a // p2 % 10\n",
        "    return a - (d1 - d2) * p1 - (d2 - d1) * p2\n",
        "\n",
        "\n",
        "def swap_r(a, p1, p2):\n",
        "\n",
        "    p1, p2 = 10**p1, 10**p2\n",
        "\n",
        "    d1 = a // p1 % 10\n",
        "    d2 = a // p2 % 10\n",
        "    return a - (d1 - d2) * p1 - (d2 - d1) * p2\n",
        "\n",
        "\n",
        "def swap_list(a, p1, p2):\n",
        "\n",
        "    a = list(str(a))\n",
        "    a[p1], a[p2] = a[p2], a[p1]\n",
        "    return int(''.join(a))\n",
        "\n",
        "\n",
        "t = int(2.3**55.7)\n",
        "y = [swap, swap_list]\n",
        "\n",
        "for e, func in enumerate(y):\n",
        "    print(f'[{func.__name__:>10}({t}, 7, 15)]', end=': ')\n",
        "    %timeit -n1000 y[e] = func(t, 7, 15)\n",
        "\n",
        "%timeit -n1000 swap_r(t, 5, 13)\n",
        "assert y[0] == y[1], (y[0], y[1])"
      ],
      "metadata": {
        "colab": {
          "base_uri": "https://localhost:8080/"
        },
        "id": "jorjf6ENIj1v",
        "outputId": "6ff2d7ac-5f41-45dc-c387-03da7bf6f92d"
      },
      "execution_count": null,
      "outputs": [
        {
          "output_type": "stream",
          "name": "stdout",
          "text": [
            "[      swap(140682625955515105280, 7, 15)]: 1000 loops, best of 5: 1.77 µs per loop\n",
            "[ swap_list(140682625955515105280, 7, 15)]: 1000 loops, best of 5: 1.42 µs per loop\n",
            "1000 loops, best of 5: 1.22 µs per loop\n"
          ]
        }
      ]
    }
  ]
}