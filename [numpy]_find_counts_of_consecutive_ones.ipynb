{
  "nbformat": 4,
  "nbformat_minor": 0,
  "metadata": {
    "colab": {
      "name": "[numpy] find counts of consecutive ones",
      "provenance": [],
      "collapsed_sections": [],
      "authorship_tag": "ABX9TyPUi5s64XuduoPAU8YYlsil",
      "include_colab_link": true
    },
    "kernelspec": {
      "name": "python3",
      "display_name": "Python 3"
    },
    "language_info": {
      "name": "python"
    }
  },
  "cells": [
    {
      "cell_type": "markdown",
      "metadata": {
        "id": "view-in-github",
        "colab_type": "text"
      },
      "source": [
        "<a href=\"https://colab.research.google.com/github/michael-szczesny/notebooks/blob/main/%5Bnumpy%5D_find_counts_of_consecutive_ones.ipynb\" target=\"_parent\"><img src=\"https://colab.research.google.com/assets/colab-badge.svg\" alt=\"Open In Colab\"/></a>"
      ]
    },
    {
      "cell_type": "markdown",
      "source": [
        "# Find count of consecutive ones"
      ],
      "metadata": {
        "id": "L15V444CqZ7L"
      }
    },
    {
      "cell_type": "code",
      "source": [
        "import numpy as np"
      ],
      "metadata": {
        "id": "HrARPcpDqaQG"
      },
      "execution_count": 15,
      "outputs": []
    },
    {
      "cell_type": "code",
      "source": [
        "np.random.seed(4)\n",
        "a = np.random.randint(2, size=(10,5))\n",
        "a"
      ],
      "metadata": {
        "colab": {
          "base_uri": "https://localhost:8080/"
        },
        "id": "AljhZy5Fqbpc",
        "outputId": "07014a31-8794-4aef-86de-0dd6e37e7fc8"
      },
      "execution_count": 23,
      "outputs": [
        {
          "output_type": "execute_result",
          "data": {
            "text/plain": [
              "array([[0, 0, 1, 1, 1],\n",
              "       [0, 1, 0, 0, 1],\n",
              "       [0, 0, 1, 1, 0],\n",
              "       [1, 1, 1, 0, 0],\n",
              "       [0, 0, 0, 0, 0],\n",
              "       [0, 1, 0, 1, 1],\n",
              "       [1, 1, 0, 1, 0],\n",
              "       [0, 0, 0, 1, 0],\n",
              "       [0, 1, 0, 0, 1],\n",
              "       [0, 0, 1, 0, 1]])"
            ]
          },
          "metadata": {},
          "execution_count": 23
        }
      ]
    },
    {
      "cell_type": "code",
      "source": [
        "diffs = np.diff(a, prepend=0, append=0)\n",
        "starts = np.argwhere(diffs == 1)\n",
        "stops = np.argwhere(diffs == -1)\n",
        "\n",
        "res = np.zeros(len(a), dtype=a.dtype)\n",
        "np.maximum.at(res, starts[:,0], stops[:,1] - starts[:,1])\n",
        "res"
      ],
      "metadata": {
        "colab": {
          "base_uri": "https://localhost:8080/"
        },
        "id": "7GMwrHeVsI3V",
        "outputId": "1c7a87ab-a551-461c-f64c-8567edd4cef4"
      },
      "execution_count": 26,
      "outputs": [
        {
          "output_type": "execute_result",
          "data": {
            "text/plain": [
              "array([3, 1, 2, 3, 0, 2, 2, 1, 1, 1])"
            ]
          },
          "metadata": {},
          "execution_count": 26
        }
      ]
    }
  ]
}