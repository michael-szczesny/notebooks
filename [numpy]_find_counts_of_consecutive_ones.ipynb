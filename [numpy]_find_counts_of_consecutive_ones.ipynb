{
  "nbformat": 4,
  "nbformat_minor": 0,
  "metadata": {
    "colab": {
      "name": "[numpy] find counts of consecutive ones",
      "provenance": [],
      "authorship_tag": "ABX9TyMVlKINJIV3FIL8OU/nsWtu"
    },
    "kernelspec": {
      "name": "python3",
      "display_name": "Python 3"
    },
    "language_info": {
      "name": "python"
    }
  },
  "cells": [
    {
      "cell_type": "markdown",
      "source": [
        "# Find count of consecutive ones"
      ],
      "metadata": {
        "id": "L15V444CqZ7L"
      }
    },
    {
      "cell_type": "code",
      "source": [
        "import numpy as np"
      ],
      "metadata": {
        "id": "HrARPcpDqaQG"
      },
      "execution_count": null,
      "outputs": []
    },
    {
      "cell_type": "code",
      "source": [
        "a = np.random.randint(2, size=(10,5))\n",
        "a"
      ],
      "metadata": {
        "colab": {
          "base_uri": "https://localhost:8080/"
        },
        "id": "AljhZy5Fqbpc",
        "outputId": "c3e57107-ac6d-4d27-c8b4-42875f512700"
      },
      "execution_count": null,
      "outputs": [
        {
          "output_type": "execute_result",
          "data": {
            "text/plain": [
              "array([[0, 1, 0, 1, 0],\n",
              "       [0, 1, 1, 1, 1],\n",
              "       [0, 0, 0, 1, 1],\n",
              "       [1, 0, 0, 0, 0],\n",
              "       [1, 0, 0, 1, 1],\n",
              "       [1, 0, 0, 0, 1],\n",
              "       [0, 0, 0, 0, 1],\n",
              "       [1, 1, 0, 1, 0],\n",
              "       [1, 0, 0, 1, 0],\n",
              "       [0, 1, 1, 1, 1]])"
            ]
          },
          "metadata": {},
          "execution_count": 63
        }
      ]
    },
    {
      "cell_type": "code",
      "source": [
        "diffs = np.diff(a, prepend=0, append=0)\n",
        "starts = np.argwhere(diffs == 1)\n",
        "stops = np.argwhere(diffs == -1)\n",
        "d = {}\n",
        "for x,y in zip(starts[:,0], stops[:,1] - starts[:,1]):\n",
        "    d.setdefault(x, []).append(y)\n",
        "[max(x) for x in d.values()]"
      ],
      "metadata": {
        "colab": {
          "base_uri": "https://localhost:8080/"
        },
        "id": "7GMwrHeVsI3V",
        "outputId": "b0b5bccc-2fe7-4250-d88b-3c2d4f3f1d43"
      },
      "execution_count": null,
      "outputs": [
        {
          "output_type": "execute_result",
          "data": {
            "text/plain": [
              "[1, 4, 2, 1, 2, 1, 1, 2, 1, 4]"
            ]
          },
          "metadata": {},
          "execution_count": 80
        }
      ]
    },
    {
      "cell_type": "code",
      "source": [
        "np.array([starts[:,0], stops[:,1] - starts[:,1]]).T"
      ],
      "metadata": {
        "colab": {
          "base_uri": "https://localhost:8080/"
        },
        "id": "AagzoDpYxCgT",
        "outputId": "628d903c-b868-4909-cf47-eef26182ecff"
      },
      "execution_count": null,
      "outputs": [
        {
          "output_type": "execute_result",
          "data": {
            "text/plain": [
              "array([[0, 1],\n",
              "       [0, 1],\n",
              "       [1, 4],\n",
              "       [2, 2],\n",
              "       [3, 1],\n",
              "       [4, 1],\n",
              "       [4, 2],\n",
              "       [5, 1],\n",
              "       [5, 1],\n",
              "       [6, 1],\n",
              "       [7, 2],\n",
              "       [7, 1],\n",
              "       [8, 1],\n",
              "       [8, 1],\n",
              "       [9, 4]])"
            ]
          },
          "metadata": {},
          "execution_count": 82
        }
      ]
    }
  ]
}