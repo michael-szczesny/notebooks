{
  "nbformat": 4,
  "nbformat_minor": 0,
  "metadata": {
    "colab": {
      "name": "[numpy] find counts of consecutive ones",
      "provenance": [],
      "collapsed_sections": [],
      "authorship_tag": "ABX9TyPn8ggkq3lIUyhhAjoyEX/Q"
    },
    "kernelspec": {
      "name": "python3",
      "display_name": "Python 3"
    },
    "language_info": {
      "name": "python"
    }
  },
  "cells": [
    {
      "cell_type": "markdown",
      "source": [
        "# Find count of consecutive ones"
      ],
      "metadata": {
        "id": "L15V444CqZ7L"
      }
    },
    {
      "cell_type": "code",
      "source": [
        "import numpy as np"
      ],
      "metadata": {
        "id": "HrARPcpDqaQG"
      },
      "execution_count": 1,
      "outputs": []
    },
    {
      "cell_type": "code",
      "source": [
        "np.random.seed(4)\n",
        "a = np.random.randint(2, size=(10,5))\n",
        "a"
      ],
      "metadata": {
        "colab": {
          "base_uri": "https://localhost:8080/"
        },
        "id": "AljhZy5Fqbpc",
        "outputId": "dc5dcb3e-0abb-462a-8661-06a49a48dae3"
      },
      "execution_count": 6,
      "outputs": [
        {
          "output_type": "execute_result",
          "data": {
            "text/plain": [
              "array([[0, 0, 1, 1, 1],\n",
              "       [0, 1, 0, 0, 1],\n",
              "       [0, 0, 1, 1, 0],\n",
              "       [1, 1, 1, 0, 0],\n",
              "       [0, 0, 0, 0, 0],\n",
              "       [0, 1, 0, 1, 1],\n",
              "       [1, 1, 0, 1, 0],\n",
              "       [0, 0, 0, 1, 0],\n",
              "       [0, 1, 0, 0, 1],\n",
              "       [0, 0, 1, 0, 1]])"
            ]
          },
          "metadata": {},
          "execution_count": 6
        }
      ]
    },
    {
      "cell_type": "code",
      "source": [
        "diffs = np.diff(a, prepend=0, append=0)\n",
        "starts = np.argwhere(diffs == 1)\n",
        "stops = np.argwhere(diffs == -1)\n",
        "\n",
        "res = np.zeros(max(starts[:,0]+1))\n",
        "np.maximum.at(res, starts[:,0], stops[:,1] - starts[:,1])\n",
        "res.astype('int')"
      ],
      "metadata": {
        "colab": {
          "base_uri": "https://localhost:8080/"
        },
        "id": "7GMwrHeVsI3V",
        "outputId": "2e0e658f-0570-4ac5-f248-c2916669e328"
      },
      "execution_count": 7,
      "outputs": [
        {
          "output_type": "execute_result",
          "data": {
            "text/plain": [
              "array([3, 1, 2, 3, 0, 2, 2, 1, 1, 1])"
            ]
          },
          "metadata": {},
          "execution_count": 7
        }
      ]
    }
  ]
}