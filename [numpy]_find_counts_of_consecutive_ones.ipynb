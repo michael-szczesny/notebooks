{
  "nbformat": 4,
  "nbformat_minor": 0,
  "metadata": {
    "colab": {
      "name": "[numpy] find counts of consecutive ones",
      "provenance": [],
      "collapsed_sections": [],
      "authorship_tag": "ABX9TyNuqIPQ+ADbXp054ON9uS/J",
      "include_colab_link": true
    },
    "kernelspec": {
      "name": "python3",
      "display_name": "Python 3"
    },
    "language_info": {
      "name": "python"
    }
  },
  "cells": [
    {
      "cell_type": "markdown",
      "metadata": {
        "id": "view-in-github",
        "colab_type": "text"
      },
      "source": [
        "<a href=\"https://colab.research.google.com/github/michael-szczesny/notebooks/blob/main/%5Bnumpy%5D_find_counts_of_consecutive_ones.ipynb\" target=\"_parent\"><img src=\"https://colab.research.google.com/assets/colab-badge.svg\" alt=\"Open In Colab\"/></a>"
      ]
    },
    {
      "cell_type": "markdown",
      "source": [
        "# Find count of consecutive ones"
      ],
      "metadata": {
        "id": "L15V444CqZ7L"
      }
    },
    {
      "cell_type": "code",
      "source": [
        "import numpy as np"
      ],
      "metadata": {
        "id": "HrARPcpDqaQG"
      },
      "execution_count": 15,
      "outputs": []
    },
    {
      "cell_type": "code",
      "source": [
        "np.random.seed(4)\n",
        "a = np.random.randint(2, size=(10,5))\n",
        "a"
      ],
      "metadata": {
        "colab": {
          "base_uri": "https://localhost:8080/"
        },
        "id": "AljhZy5Fqbpc",
        "outputId": "815d1f71-8081-452e-fdb7-df1ec1a6c957"
      },
      "execution_count": 16,
      "outputs": [
        {
          "output_type": "execute_result",
          "data": {
            "text/plain": [
              "array([[0, 0, 1, 1, 1],\n",
              "       [0, 1, 0, 0, 1],\n",
              "       [0, 0, 1, 1, 0],\n",
              "       [1, 1, 1, 0, 0],\n",
              "       [0, 0, 0, 0, 0],\n",
              "       [0, 1, 0, 1, 1],\n",
              "       [1, 1, 0, 1, 0],\n",
              "       [0, 0, 0, 1, 0],\n",
              "       [0, 1, 0, 0, 1],\n",
              "       [0, 0, 1, 0, 1]])"
            ]
          },
          "metadata": {},
          "execution_count": 16
        }
      ]
    },
    {
      "cell_type": "code",
      "source": [
        "diffs = np.diff(a, prepend=0, append=0)\n",
        "starts = np.argwhere(diffs == 1)\n",
        "stops = np.argwhere(diffs == -1)\n",
        "\n",
        "res = np.zeros((starts[:,0]+1).max())\n",
        "np.maximum.at(res, starts[:,0], stops[:,1] - starts[:,1])\n",
        "res.astype('int')"
      ],
      "metadata": {
        "colab": {
          "base_uri": "https://localhost:8080/"
        },
        "id": "7GMwrHeVsI3V",
        "outputId": "a5d9f2d7-12d1-4aa3-bee3-7773d8cbb088"
      },
      "execution_count": 17,
      "outputs": [
        {
          "output_type": "execute_result",
          "data": {
            "text/plain": [
              "array([3, 1, 2, 3, 0, 2, 2, 1, 1, 1])"
            ]
          },
          "metadata": {},
          "execution_count": 17
        }
      ]
    }
  ]
}