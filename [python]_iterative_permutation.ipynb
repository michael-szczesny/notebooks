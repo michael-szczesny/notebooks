{
  "nbformat": 4,
  "nbformat_minor": 0,
  "metadata": {
    "colab": {
      "name": "[python] iterative permutation",
      "provenance": [],
      "collapsed_sections": [],
      "authorship_tag": "ABX9TyNKIX5G5KBcnERlgjHSde5E"
    },
    "kernelspec": {
      "name": "python3",
      "display_name": "Python 3"
    }
  },
  "cells": [
    {
      "cell_type": "code",
      "metadata": {
        "colab": {
          "base_uri": "https://localhost:8080/"
        },
        "id": "-pst1draMg8J",
        "outputId": "bc5aa872-b90a-4b70-e9b3-112f2cee29a1"
      },
      "source": [
        "def permute(l):\n",
        "    p = [l[:1]]\n",
        "    for i, _ in enumerate(l[1:], 2):\n",
        "        p = [k[:j]+l[i-1:i]+k[j:] for k in p for j in range(i)]\n",
        "    return p\n",
        "permute([1,2,3,4])"
      ],
      "execution_count": 1,
      "outputs": [
        {
          "output_type": "execute_result",
          "data": {
            "text/plain": [
              "[[4, 3, 2, 1],\n",
              " [3, 4, 2, 1],\n",
              " [3, 2, 4, 1],\n",
              " [3, 2, 1, 4],\n",
              " [4, 2, 3, 1],\n",
              " [2, 4, 3, 1],\n",
              " [2, 3, 4, 1],\n",
              " [2, 3, 1, 4],\n",
              " [4, 2, 1, 3],\n",
              " [2, 4, 1, 3],\n",
              " [2, 1, 4, 3],\n",
              " [2, 1, 3, 4],\n",
              " [4, 3, 1, 2],\n",
              " [3, 4, 1, 2],\n",
              " [3, 1, 4, 2],\n",
              " [3, 1, 2, 4],\n",
              " [4, 1, 3, 2],\n",
              " [1, 4, 3, 2],\n",
              " [1, 3, 4, 2],\n",
              " [1, 3, 2, 4],\n",
              " [4, 1, 2, 3],\n",
              " [1, 4, 2, 3],\n",
              " [1, 2, 4, 3],\n",
              " [1, 2, 3, 4]]"
            ]
          },
          "metadata": {},
          "execution_count": 1
        }
      ]
    }
  ]
}