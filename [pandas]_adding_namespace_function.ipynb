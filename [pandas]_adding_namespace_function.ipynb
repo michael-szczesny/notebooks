{
  "nbformat": 4,
  "nbformat_minor": 0,
  "metadata": {
    "colab": {
      "name": "[pandas] adding namespace function",
      "provenance": [],
      "collapsed_sections": [],
      "authorship_tag": "ABX9TyMU4Gmr0fiUmg6/POMOjHFX"
    },
    "kernelspec": {
      "name": "python3",
      "display_name": "Python 3"
    }
  },
  "cells": [
    {
      "cell_type": "code",
      "metadata": {
        "id": "-63ZFSA_uE81"
      },
      "source": [
        "import pandas as pd\n",
        "import numpy as np\n",
        "import io\n",
        "import matplotlib.pyplot as plt\n",
        "plt.style.use('ggplot')"
      ],
      "execution_count": null,
      "outputs": []
    },
    {
      "cell_type": "code",
      "metadata": {
        "colab": {
          "base_uri": "https://localhost:8080/",
          "height": 264
        },
        "id": "O9StNrMyCbdS",
        "outputId": "5cbb2fed-b86d-43d0-9fda-608750cf23dc"
      },
      "source": [
        "import numpy as np\n",
        "import pandas as pd\n",
        "\n",
        "def time(t):\n",
        "    return pd.Timestamp(\"2019-01-01T12\") + pd.to_timedelta(t, \"d\")\n",
        "\n",
        "\n",
        "arrays = [\n",
        "    np.array([1, 1, 2, 2, 3, 3]),\n",
        "    np.array([time(0), time(1), time(396), time(365), time(31), time(365)]),\n",
        "]\n",
        "df = pd.DataFrame(np.random.randn(6, 1), index=arrays, columns=[\"var\"])\n",
        "df.index.names = [\"id\", \"time\"]\n",
        "df"
      ],
      "execution_count": null,
      "outputs": [
        {
          "output_type": "execute_result",
          "data": {
            "text/html": [
              "<div>\n",
              "<style scoped>\n",
              "    .dataframe tbody tr th:only-of-type {\n",
              "        vertical-align: middle;\n",
              "    }\n",
              "\n",
              "    .dataframe tbody tr th {\n",
              "        vertical-align: top;\n",
              "    }\n",
              "\n",
              "    .dataframe thead th {\n",
              "        text-align: right;\n",
              "    }\n",
              "</style>\n",
              "<table border=\"1\" class=\"dataframe\">\n",
              "  <thead>\n",
              "    <tr style=\"text-align: right;\">\n",
              "      <th></th>\n",
              "      <th></th>\n",
              "      <th>var</th>\n",
              "    </tr>\n",
              "    <tr>\n",
              "      <th>id</th>\n",
              "      <th>time</th>\n",
              "      <th></th>\n",
              "    </tr>\n",
              "  </thead>\n",
              "  <tbody>\n",
              "    <tr>\n",
              "      <th rowspan=\"2\" valign=\"top\">1</th>\n",
              "      <th>2019-01-01 12:00:00</th>\n",
              "      <td>-0.238560</td>\n",
              "    </tr>\n",
              "    <tr>\n",
              "      <th>2019-01-02 12:00:00</th>\n",
              "      <td>0.333090</td>\n",
              "    </tr>\n",
              "    <tr>\n",
              "      <th rowspan=\"2\" valign=\"top\">2</th>\n",
              "      <th>2020-02-01 12:00:00</th>\n",
              "      <td>0.857894</td>\n",
              "    </tr>\n",
              "    <tr>\n",
              "      <th>2020-01-01 12:00:00</th>\n",
              "      <td>-0.857522</td>\n",
              "    </tr>\n",
              "    <tr>\n",
              "      <th rowspan=\"2\" valign=\"top\">3</th>\n",
              "      <th>2019-02-01 12:00:00</th>\n",
              "      <td>-0.640853</td>\n",
              "    </tr>\n",
              "    <tr>\n",
              "      <th>2020-01-01 12:00:00</th>\n",
              "      <td>1.194370</td>\n",
              "    </tr>\n",
              "  </tbody>\n",
              "</table>\n",
              "</div>"
            ],
            "text/plain": [
              "                             var\n",
              "id time                         \n",
              "1  2019-01-01 12:00:00 -0.238560\n",
              "   2019-01-02 12:00:00  0.333090\n",
              "2  2020-02-01 12:00:00  0.857894\n",
              "   2020-01-01 12:00:00 -0.857522\n",
              "3  2019-02-01 12:00:00 -0.640853\n",
              "   2020-01-01 12:00:00  1.194370"
            ]
          },
          "metadata": {
            "tags": []
          },
          "execution_count": 2
        }
      ]
    },
    {
      "cell_type": "code",
      "metadata": {
        "colab": {
          "base_uri": "https://localhost:8080/",
          "height": 203
        },
        "id": "DtIlflrENtAv",
        "outputId": "12c37555-cc11-4bf1-fec0-a540fc6ed1a9"
      },
      "source": [
        "df.groupby(level=0).filter(lambda x: x.index.get_level_values(1).min().month_name() == 'January')"
      ],
      "execution_count": null,
      "outputs": [
        {
          "output_type": "execute_result",
          "data": {
            "text/html": [
              "<div>\n",
              "<style scoped>\n",
              "    .dataframe tbody tr th:only-of-type {\n",
              "        vertical-align: middle;\n",
              "    }\n",
              "\n",
              "    .dataframe tbody tr th {\n",
              "        vertical-align: top;\n",
              "    }\n",
              "\n",
              "    .dataframe thead th {\n",
              "        text-align: right;\n",
              "    }\n",
              "</style>\n",
              "<table border=\"1\" class=\"dataframe\">\n",
              "  <thead>\n",
              "    <tr style=\"text-align: right;\">\n",
              "      <th></th>\n",
              "      <th></th>\n",
              "      <th>var</th>\n",
              "    </tr>\n",
              "    <tr>\n",
              "      <th>id</th>\n",
              "      <th>time</th>\n",
              "      <th></th>\n",
              "    </tr>\n",
              "  </thead>\n",
              "  <tbody>\n",
              "    <tr>\n",
              "      <th rowspan=\"2\" valign=\"top\">1</th>\n",
              "      <th>2019-01-01 12:00:00</th>\n",
              "      <td>-0.238560</td>\n",
              "    </tr>\n",
              "    <tr>\n",
              "      <th>2019-01-02 12:00:00</th>\n",
              "      <td>0.333090</td>\n",
              "    </tr>\n",
              "    <tr>\n",
              "      <th rowspan=\"2\" valign=\"top\">2</th>\n",
              "      <th>2020-02-01 12:00:00</th>\n",
              "      <td>0.857894</td>\n",
              "    </tr>\n",
              "    <tr>\n",
              "      <th>2020-01-01 12:00:00</th>\n",
              "      <td>-0.857522</td>\n",
              "    </tr>\n",
              "  </tbody>\n",
              "</table>\n",
              "</div>"
            ],
            "text/plain": [
              "                             var\n",
              "id time                         \n",
              "1  2019-01-01 12:00:00 -0.238560\n",
              "   2019-01-02 12:00:00  0.333090\n",
              "2  2020-02-01 12:00:00  0.857894\n",
              "   2020-01-01 12:00:00 -0.857522"
            ]
          },
          "metadata": {
            "tags": []
          },
          "execution_count": 3
        }
      ]
    },
    {
      "cell_type": "code",
      "metadata": {
        "id": "oLUrQv9WO4_W"
      },
      "source": [
        "@pd.api.extensions.register_dataframe_accessor(\"pseudo\")\n",
        "class Pseudo:\n",
        "    def __init__(self, pandas_obj):\n",
        "        self._obj = pandas_obj\n",
        "\n",
        "    def filter(self, start_month):\n",
        "        return (self._obj.groupby(level=0)\n",
        "                    .filter(lambda x: x.index.get_level_values(1).min()\n",
        "                    .month_name() == start_month))"
      ],
      "execution_count": null,
      "outputs": []
    },
    {
      "cell_type": "code",
      "metadata": {
        "colab": {
          "base_uri": "https://localhost:8080/",
          "height": 203
        },
        "id": "XJgAdWy2SgHF",
        "outputId": "93e32c4c-6f47-44b8-fa33-13d2b9b3c339"
      },
      "source": [
        "df.pseudo.filter(start_month='January')"
      ],
      "execution_count": null,
      "outputs": [
        {
          "output_type": "execute_result",
          "data": {
            "text/html": [
              "<div>\n",
              "<style scoped>\n",
              "    .dataframe tbody tr th:only-of-type {\n",
              "        vertical-align: middle;\n",
              "    }\n",
              "\n",
              "    .dataframe tbody tr th {\n",
              "        vertical-align: top;\n",
              "    }\n",
              "\n",
              "    .dataframe thead th {\n",
              "        text-align: right;\n",
              "    }\n",
              "</style>\n",
              "<table border=\"1\" class=\"dataframe\">\n",
              "  <thead>\n",
              "    <tr style=\"text-align: right;\">\n",
              "      <th></th>\n",
              "      <th></th>\n",
              "      <th>var</th>\n",
              "    </tr>\n",
              "    <tr>\n",
              "      <th>id</th>\n",
              "      <th>time</th>\n",
              "      <th></th>\n",
              "    </tr>\n",
              "  </thead>\n",
              "  <tbody>\n",
              "    <tr>\n",
              "      <th rowspan=\"2\" valign=\"top\">1</th>\n",
              "      <th>2019-01-01 12:00:00</th>\n",
              "      <td>-0.238560</td>\n",
              "    </tr>\n",
              "    <tr>\n",
              "      <th>2019-01-02 12:00:00</th>\n",
              "      <td>0.333090</td>\n",
              "    </tr>\n",
              "    <tr>\n",
              "      <th rowspan=\"2\" valign=\"top\">2</th>\n",
              "      <th>2020-02-01 12:00:00</th>\n",
              "      <td>0.857894</td>\n",
              "    </tr>\n",
              "    <tr>\n",
              "      <th>2020-01-01 12:00:00</th>\n",
              "      <td>-0.857522</td>\n",
              "    </tr>\n",
              "  </tbody>\n",
              "</table>\n",
              "</div>"
            ],
            "text/plain": [
              "                             var\n",
              "id time                         \n",
              "1  2019-01-01 12:00:00 -0.238560\n",
              "   2019-01-02 12:00:00  0.333090\n",
              "2  2020-02-01 12:00:00  0.857894\n",
              "   2020-01-01 12:00:00 -0.857522"
            ]
          },
          "metadata": {
            "tags": []
          },
          "execution_count": 5
        }
      ]
    },
    {
      "cell_type": "code",
      "metadata": {
        "colab": {
          "base_uri": "https://localhost:8080/"
        },
        "id": "weau3ARnTa_j",
        "outputId": "16e2d90e-49db-4b56-f056-9ebdcd49a853"
      },
      "source": [
        "print(_)"
      ],
      "execution_count": null,
      "outputs": [
        {
          "output_type": "stream",
          "text": [
            "                             var\n",
            "id time                         \n",
            "1  2019-01-01 12:00:00 -1.314898\n",
            "   2019-01-02 12:00:00  0.810314\n",
            "2  2020-02-01 12:00:00 -1.214327\n",
            "   2020-01-01 12:00:00 -0.678823\n"
          ],
          "name": "stdout"
        }
      ]
    }
  ]
}